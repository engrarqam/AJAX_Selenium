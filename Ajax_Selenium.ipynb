{
 "cells": [
  {
   "cell_type": "code",
   "execution_count": 1,
   "id": "cbb1e973",
   "metadata": {},
   "outputs": [],
   "source": [
    "from selenium import webdriver\n",
    "from selenium.webdriver.common.by import By\n",
    "from selenium.webdriver.support.ui import WebDriverWait\n",
    "from selenium.webdriver.support import expected_conditions as EC\n",
    "from selenium.webdriver.support.select import Select\n",
    "from selenium.webdriver.common.action_chains import ActionChains"
   ]
  },
  {
   "cell_type": "code",
   "execution_count": 2,
   "id": "675a3a96",
   "metadata": {},
   "outputs": [],
   "source": [
    "import pandas as pd\n",
    "import time\n",
    "\n",
    "start_time = time.time()\n",
    "driver = webdriver.Chrome()\n",
    "# wait  = WebDriverWait(driver, 3)\n",
    "driver.get('https://fcainfoweb.nic.in/reports/report_menu_web.aspx')"
   ]
  },
  {
   "cell_type": "code",
   "execution_count": 3,
   "id": "7fb985cb",
   "metadata": {},
   "outputs": [],
   "source": [
    "time.sleep(2)\n",
    "\n",
    "select = driver.find_element(By.ID, 'ctl00_MainContent_Ddl_Rpt_type')\n",
    "dd = Select(select)\n",
    "dd.select_by_visible_text('Wholesale')"
   ]
  },
  {
   "cell_type": "code",
   "execution_count": 4,
   "id": "848ff1ad",
   "metadata": {},
   "outputs": [],
   "source": [
    "time.sleep(2)\n",
    "select = driver.find_element(By.ID, 'ctl00_MainContent_ddl_Language')\n",
    "dd = Select(select)\n",
    "dd.select_by_visible_text('English')"
   ]
  },
  {
   "cell_type": "code",
   "execution_count": 5,
   "id": "83cb96bb",
   "metadata": {},
   "outputs": [],
   "source": [
    "time.sleep(2)\n",
    "price_report = driver.find_element(By.NAME, \"ctl00$MainContent$Rbl_Rpt_type\")\n",
    "price_report.click()"
   ]
  },
  {
   "cell_type": "code",
   "execution_count": 6,
   "id": "dc7ad901",
   "metadata": {},
   "outputs": [],
   "source": [
    "time.sleep(2)\n",
    "select = driver.find_element(By.NAME, 'ctl00$MainContent$Ddl_Rpt_Option0')\n",
    "dd = Select(select)\n",
    "dd.select_by_visible_text('Daily Prices')"
   ]
  },
  {
   "cell_type": "code",
   "execution_count": 8,
   "id": "c128ae42",
   "metadata": {},
   "outputs": [
    {
     "name": "stdout",
     "output_type": "stream",
     "text": [
      "{'month': 'June,', 'year': 2020, 'current_year': 2022, 'current_month': 'August,'}\n"
     ]
    }
   ],
   "source": [
    "calender_click = WebDriverWait(driver, 5).until(EC.presence_of_element_located((By.XPATH, \"//input[@id='ctl00_MainContent_Txt_FrmDate']\"))).click()\n",
    "\n",
    "import time\n",
    "month_year = 'June, 2020'\n",
    "\n",
    "year = month_year.split()[1]\n",
    "year = int(year)\n",
    "month = month_year.split()[0]\n",
    "\n",
    "calender_click = WebDriverWait(driver, 5).until(EC.presence_of_element_located((By.XPATH, \"//input[@id='ctl00_MainContent_Txt_FrmDate']\"))).click()\n",
    "\n",
    "time.sleep(4)\n",
    "\n",
    "current = WebDriverWait(driver, 5).until(EC.presence_of_element_located((By.XPATH, \"//div[@class='ajax__calendar_title']\"))).text\n",
    "\n",
    "time.sleep(4)\n",
    "                                         \n",
    "current_year = current.split()[1]\n",
    "current_year = int(current_year)\n",
    "current_month = current.split()[0]\n",
    "print({'month':month, 'year':year, 'current_year':current_year, 'current_month':current_month})\n",
    "\n",
    "def selection(month_year, year, current_year, month, current_month):\n",
    "    time.sleep(4)\n",
    "    \n",
    "    #### PREVIOUS\n",
    "    if current_year > year:\n",
    "        driver.find_element(By.XPATH, \"//input[@id='ctl00_MainContent_Txt_FrmDate']\").click()\n",
    "        while month_year not in WebDriverWait(driver, 600).until(EC.presence_of_element_located((By.XPATH, \"//div[@class='ajax__calendar_title']\"))).text:\n",
    "            button = WebDriverWait(driver, 600).until(EC.presence_of_element_located((By.XPATH, \"//div[@class='ajax__calendar_prev']\")))\n",
    "            ActionChains(driver).move_to_element(button).click(button).perform()\n",
    "    \n",
    "    elif current_year == year:\n",
    "        print(\"Equal\")\n",
    "        \n",
    "    #### NEXT\n",
    "    else:\n",
    "        driver.find_element(By.XPATH, \"//input[@id='ctl00_MainContent_Txt_FrmDate']\").click()\n",
    "        while month_year not in WebDriverWait(driver, 600).until(EC.presence_of_element_located((By.XPATH, \"//div[@class='ajax__calendar_title']\"))).text:\n",
    "            button = WebDriverWait(driver, 600).until(EC.presence_of_element_located((By.XPATH, \"//div[@class='ajax__calendar_next']\")))\n",
    "            ActionChains(driver).move_to_element(button).click(button).perform()\n",
    "selection(month_year, year, current_year, month, current_month)"
   ]
  },
  {
   "cell_type": "code",
   "execution_count": null,
   "id": "b30d9200",
   "metadata": {},
   "outputs": [],
   "source": [
    "calender_click = WebDriverWait(driver, 5).until(EC.presence_of_element_located((By.XPATH, \"//input[@id='ctl00_MainContent_Txt_FrmDate']\"))).click()\n",
    "\n",
    "time.sleep(4)\n",
    "\n",
    "button = WebDriverWait(driver, 600).until(EC.presence_of_element_located((By.XPATH, \"//div[@class='ajax__calendar_day'][text()='17']\")))\n",
    "time.sleep(4)\n",
    "ActionChains(driver).move_to_element(button).click(button).perform()"
   ]
  },
  {
   "cell_type": "code",
   "execution_count": null,
   "id": "351555d7",
   "metadata": {},
   "outputs": [],
   "source": [
    "time.sleep(2)\n",
    "Get_Data = driver.find_element(By.NAME, \"ctl00$MainContent$btn_getdata1\")\n",
    "Get_Data.click()"
   ]
  },
  {
   "cell_type": "code",
   "execution_count": null,
   "id": "f29be669",
   "metadata": {},
   "outputs": [],
   "source": [
    "dfs = pd.read_html(driver.page_source)\n",
    "for i, df in enumerate(dfs):\n",
    "    df.to_csv(f'data_{i}.csv')"
   ]
  },
  {
   "cell_type": "code",
   "execution_count": null,
   "id": "97f32769",
   "metadata": {},
   "outputs": [],
   "source": [
    "time.sleep(60)\n",
    "dfs = pd.read_html(Get_Data.text)\n",
    "for i,df in enumerate(dfs):\n",
    "    df.to_csv(f'data_{i}.csv')"
   ]
  },
  {
   "cell_type": "code",
   "execution_count": null,
   "id": "2a0fd538",
   "metadata": {},
   "outputs": [],
   "source": [
    "df = pd.read_html(driver.page_source)[1]\n",
    "print(df)"
   ]
  },
  {
   "cell_type": "code",
   "execution_count": null,
   "id": "854ab068",
   "metadata": {
    "scrolled": false
   },
   "outputs": [],
   "source": [
    "for tr in driver.find_elements(By.XPATH, '//center/table//tr'):\n",
    "    tds = tr.find_elements(By.TAG_NAME, 'td')\n",
    "    print ([td.text for td in tds])"
   ]
  }
 ],
 "metadata": {
  "kernelspec": {
   "display_name": "Python 3 (ipykernel)",
   "language": "python",
   "name": "python3"
  },
  "language_info": {
   "codemirror_mode": {
    "name": "ipython",
    "version": 3
   },
   "file_extension": ".py",
   "mimetype": "text/x-python",
   "name": "python",
   "nbconvert_exporter": "python",
   "pygments_lexer": "ipython3",
   "version": "3.9.7"
  }
 },
 "nbformat": 4,
 "nbformat_minor": 5
}
